{
 "cells": [
  {
   "cell_type": "code",
   "execution_count": null,
   "id": "1b5f12ee-9892-402e-8644-e53b21b5b093",
   "metadata": {},
   "outputs": [
    {
     "name": "stdout",
     "output_type": "stream",
     "text": [
      "\n",
      "--- Expense Tracker ---\n",
      "1: To add Expenses\n",
      "2: To View Savings\n",
      "3: To View Expenses\n",
      "0: To Exit\n"
     ]
    },
    {
     "name": "stdin",
     "output_type": "stream",
     "text": [
      "Choose a Number:  1\n",
      "Enter date (YYYY-MM-DD):  2023-12-10\n",
      "Enter your Expenses:  1000\n",
      "Enter the description:  Food\n"
     ]
    },
    {
     "name": "stdout",
     "output_type": "stream",
     "text": [
      "Expense added successfully!\n",
      "\n",
      "--- Expense Tracker ---\n",
      "1: To add Expenses\n",
      "2: To View Savings\n",
      "3: To View Expenses\n",
      "0: To Exit\n"
     ]
    },
    {
     "name": "stdin",
     "output_type": "stream",
     "text": [
      "Choose a Number:  1\n",
      "Enter date (YYYY-MM-DD):  2023-12-13\n",
      "Enter your Expenses:  Travel\n"
     ]
    },
    {
     "name": "stdout",
     "output_type": "stream",
     "text": [
      "Please enter a valid number for expenses.\n",
      "\n",
      "--- Expense Tracker ---\n",
      "1: To add Expenses\n",
      "2: To View Savings\n",
      "3: To View Expenses\n",
      "0: To Exit\n"
     ]
    },
    {
     "name": "stdin",
     "output_type": "stream",
     "text": [
      "Choose a Number:  2\n"
     ]
    },
    {
     "name": "stdout",
     "output_type": "stream",
     "text": [
      "Fixed Income: 50000\n",
      "Total Expenses: 1000\n",
      "Remaining Savings: 49000\n",
      "\n",
      "--- Expense Tracker ---\n",
      "1: To add Expenses\n",
      "2: To View Savings\n",
      "3: To View Expenses\n",
      "0: To Exit\n"
     ]
    },
    {
     "name": "stdin",
     "output_type": "stream",
     "text": [
      "Choose a Number:  3\n"
     ]
    },
    {
     "name": "stdout",
     "output_type": "stream",
     "text": [
      "Date\tIncome\tExpense\tDescription\n",
      "2023-12-10\t50000\t1000\tFood\n",
      "\n",
      "--- Expense Tracker ---\n",
      "1: To add Expenses\n",
      "2: To View Savings\n",
      "3: To View Expenses\n",
      "0: To Exit\n"
     ]
    },
    {
     "name": "stdin",
     "output_type": "stream",
     "text": [
      "Choose a Number:  9\n"
     ]
    },
    {
     "name": "stdout",
     "output_type": "stream",
     "text": [
      "Enter a valid option.\n",
      "\n",
      "--- Expense Tracker ---\n",
      "1: To add Expenses\n",
      "2: To View Savings\n",
      "3: To View Expenses\n",
      "0: To Exit\n"
     ]
    }
   ],
   "source": [
    "import csv\n",
    "\n",
    "# Fixed income\n",
    "total_income = 50000\n",
    "\n",
    "# Function to add expenses\n",
    "def add_expenses(date, expense, description):\n",
    "    with open(\"Expenses.csv\", 'a', newline=\"\") as file:\n",
    "        writer = csv.writer(file)\n",
    "        writer.writerow([date, total_income, expense, description])\n",
    "    print(\"Expense added successfully!\")\n",
    "\n",
    "# Function to calculate and view savings\n",
    "def savings():\n",
    "    try:\n",
    "        with open(\"Expenses.csv\", 'r') as file:\n",
    "            reader = csv.reader(file)\n",
    "            expenses = [int(row[2]) for row in reader]  # List comprehension to extract expenses\n",
    "        total_expenses = sum(expenses)  # Sum the expenses\n",
    "        total_savings = total_income - total_expenses\n",
    "        print(f\"Fixed Income: {total_income}\")\n",
    "        print(f\"Total Expenses: {total_expenses}\")\n",
    "        print(f\"Remaining Savings: {total_savings}\")\n",
    "    except FileNotFoundError:\n",
    "        print(\"No expenses recorded yet!\")\n",
    "\n",
    "# Function to view expenses\n",
    "def view_expenses():\n",
    "    try:\n",
    "        with open(\"Expenses.csv\", 'r') as file:\n",
    "            reader = csv.reader(file)\n",
    "            print(\"Date\\tIncome\\tExpense\\tDescription\")\n",
    "            for row in reader:\n",
    "                print(\"\\t\".join(row))\n",
    "    except FileNotFoundError:\n",
    "        print(\"No expenses recorded yet.\")\n",
    "\n",
    "# Main program logic with a loop\n",
    "while True:\n",
    "    print(\"\\n--- Expense Tracker ---\")\n",
    "    print(\"1: To add Expenses\")\n",
    "    print(\"2: To View Savings\")\n",
    "    print(\"3: To View Expenses\")\n",
    "    print(\"0: To Exit\")\n",
    "\n",
    "    try:\n",
    "        res = int(input(\"Choose a Number: \"))\n",
    "    except ValueError:\n",
    "        print(\"Please enter a valid number.\")\n",
    "        continue\n",
    "\n",
    "    if res == 1:\n",
    "        date = input(\"Enter date (YYYY-MM-DD): \")\n",
    "        try:\n",
    "            expense = int(input(\"Enter your Expenses: \"))\n",
    "            description = input(\"Enter the description: \")\n",
    "            add_expenses(date, expense, description)\n",
    "        except ValueError:\n",
    "            print(\"Please enter a valid number for expenses.\")\n",
    "\n",
    "    elif res == 2:\n",
    "        savings()\n",
    "\n",
    "    elif res == 3:\n",
    "        view_expenses()\n",
    "\n",
    "    elif res == 0:\n",
    "        print(\"Exiting the program. Goodbye!\")\n",
    "        break  # Exit the loop and program\n",
    "\n",
    "    else:\n",
    "        print(\"Enter a valid option.\")\n"
   ]
  },
  {
   "cell_type": "code",
   "execution_count": null,
   "id": "ac6f12aa-44a4-4b9c-a7c8-cf12e4677849",
   "metadata": {},
   "outputs": [],
   "source": []
  }
 ],
 "metadata": {
  "kernelspec": {
   "display_name": "Python 3 (ipykernel)",
   "language": "python",
   "name": "python3"
  },
  "language_info": {
   "codemirror_mode": {
    "name": "ipython",
    "version": 3
   },
   "file_extension": ".py",
   "mimetype": "text/x-python",
   "name": "python",
   "nbconvert_exporter": "python",
   "pygments_lexer": "ipython3",
   "version": "3.12.4"
  }
 },
 "nbformat": 4,
 "nbformat_minor": 5
}
